{
 "cells": [
  {
   "cell_type": "code",
   "execution_count": null,
   "id": "57227969",
   "metadata": {},
   "outputs": [],
   "source": [
    "#****************QUESTION 1************************\n",
    "\n",
    "me = {'name': 'hamza', 'age': '19', 'city' : 'lahore', 'hobbies' : 'gaming' }\n",
    "print(me)"
   ]
  },
  {
   "cell_type": "code",
   "execution_count": null,
   "id": "f7121455",
   "metadata": {},
   "outputs": [],
   "source": [
    "#****************QUESTION 2************************\n",
    "\n",
    "text = input(\"Enter text: \").lower().split()\n",
    "count = {}\n",
    "for word in text:\n",
    "    word = word.strip('.,!?')\n",
    "    count[word] = count.get(word, 0) + 1\n",
    "print(count)\n"
   ]
  },
  {
   "cell_type": "code",
   "execution_count": null,
   "id": "6b70014d",
   "metadata": {},
   "outputs": [],
   "source": [
    "#****************QUESTION 3************************\n",
    "\n",
    "inventory = {\"apple\": 10, \"banana\": 5}\n",
    "inventory[\"orange\"] = 7       \n",
    "inventory[\"apple\"] += 3       \n",
    "del inventory[\"banana\"]       \n",
    "\n",
    "print(inventory)\n"
   ]
  },
  {
   "cell_type": "code",
   "execution_count": 1,
   "id": "de5534e1",
   "metadata": {},
   "outputs": [
    {
     "name": "stdout",
     "output_type": "stream",
     "text": [
      "{'computers': 180, 'kitchen appliances': 1680, 'smartphones': 1802, 'food': 2090}\n",
      "Popular product category is: food\n"
     ]
    }
   ],
   "source": [
    "#****************QUESTION 4************************\n",
    "\n",
    "product_category={'computers':180,'kitchen appliances':1680,'smartphones':1802,'food':2090}\n",
    "print(product_category)\n",
    "popular_pro=max(product_category.values())\n",
    "for product,sales in product_category.items():\n",
    "    if sales==popular_pro:\n",
    "        print(\"Popular product category is:\",product)"
   ]
  },
  {
   "cell_type": "code",
   "execution_count": 2,
   "id": "7aaba71c",
   "metadata": {},
   "outputs": [
    {
     "name": "stdout",
     "output_type": "stream",
     "text": [
      "{'batman': 98, 'hamar': 89, 'ghaba': 45, 'joker': 67}\n",
      "4\n",
      "74.75\n"
     ]
    }
   ],
   "source": [
    "#****************QUESTION 5************************\n",
    "\n",
    "student_grades={\n",
    "    'batman':98,\n",
    "    'hamar':89,\n",
    "    'ghaba':45,\n",
    "    'joker':67\n",
    "}\n",
    "print(student_grades)\n",
    "total_grade=sum(student_grades.values())\n",
    "student=len(student_grades.items())\n",
    "print(student)\n",
    "average=total_grade/student\n",
    "print(average)"
   ]
  },
  {
   "cell_type": "code",
   "execution_count": null,
   "id": "badca733",
   "metadata": {},
   "outputs": [
    {
     "name": "stdout",
     "output_type": "stream",
     "text": [
      "Added product: Laptop\n",
      "Added product: Mouse\n",
      "Added product: Keyboard\n",
      "Updated quantity for Mouse: 8\n",
      "Total inventory value: $7790.00\n",
      "Low-stock items:\n",
      "- Keyboard: 2 in stock\n"
     ]
    }
   ],
   "source": [
    "#****************QUESTION 6************************\n",
    "\n",
    "inventory = {}\n",
    "\n",
    "\n",
    "def add_product(name, quantity, price):\n",
    "    if name in inventory:\n",
    "        print(f\"Product '{name}' already exists. Use update_quantity to modify.\")\n",
    "    else:\n",
    "        inventory[name] = {'quantity': quantity, 'price': price}\n",
    "        print(f\"Added product: {name}\")\n",
    "\n",
    "\n",
    "def update_quantity(name, quantity):\n",
    "    if name in inventory:\n",
    "        inventory[name]['quantity'] += quantity\n",
    "        print(f\"Updated quantity for {name}: {inventory[name]['quantity']}\")\n",
    "    else:\n",
    "        print(f\"Product '{name}' does not exist.\")\n",
    "\n",
    "\n",
    "def calculate_inventory_value():\n",
    "    total_value = sum(item['quantity'] * item['price'] for item in inventory.values())\n",
    "    print(f\"Total inventory value: ${total_value:.2f}\")\n",
    "    return total_value\n",
    "\n",
    "\n",
    "def low_stock_report(threshold=5):\n",
    "    low_stock = {name: info for name, info in inventory.items() if info['quantity'] < threshold}\n",
    "    if not low_stock:\n",
    "        print(\"No low-stock items.\")\n",
    "    else:\n",
    "        print(\"Low-stock items:\")\n",
    "        for name, info in low_stock.items():\n",
    "            print(f\"- {name}: {info['quantity']} in stock\")\n",
    "\n",
    "\n",
    "add_product(\"Laptop\", 10, 750.00)\n",
    "add_product(\"Mouse\", 3, 25.00)\n",
    "add_product(\"Keyboard\", 2, 45.00)\n",
    "update_quantity(\"Mouse\", 5)\n",
    "calculate_inventory_value()\n",
    "low_stock_report(threshold=4)\n"
   ]
  },
  {
   "cell_type": "code",
   "execution_count": 4,
   "id": "f7e8c374",
   "metadata": {},
   "outputs": [
    {
     "name": "stdout",
     "output_type": "stream",
     "text": [
      "Added student: Alice\n",
      "Added student: Bob\n",
      "Added student: Charlie\n",
      "Alice's average: 88.33\n",
      "Bob's average: 78.67\n",
      "Charlie's average: 92.00\n",
      "Highest in Math: Charlie (95)\n",
      "Lowest in Math: Bob (76)\n",
      "Alice's average: 88.33\n",
      "Bob's average: 78.67\n",
      "Charlie's average: 92.00\n",
      "\n",
      "Students sorted by average grades:\n",
      "Charlie: 92.00\n",
      "Alice: 88.33\n",
      "Bob: 78.67\n"
     ]
    },
    {
     "data": {
      "text/plain": [
       "[('Charlie', 92.0), ('Alice', 88.33333333333333), ('Bob', 78.66666666666667)]"
      ]
     },
     "execution_count": 4,
     "metadata": {},
     "output_type": "execute_result"
    }
   ],
   "source": [
    "#****************QUESTION 7************************\n",
    "\n",
    "gradebook = {}\n",
    "\n",
    "def add_student(name, grades):\n",
    "    gradebook[name] = grades\n",
    "    print(f\"Added student: {name}\")\n",
    "\n",
    "def calculate_averages():\n",
    "    averages = {}\n",
    "    for student, subjects in gradebook.items():\n",
    "        avg = sum(subjects.values()) / len(subjects)\n",
    "        averages[student] = avg\n",
    "        print(f\"{student}'s average: {avg:.2f}\")\n",
    "    return averages\n",
    "\n",
    "def subject_grade_extremes(subject):\n",
    "    subject_grades = {name: grades[subject] for name, grades in gradebook.items() if subject in grades}\n",
    "    if not subject_grades:\n",
    "        print(f\"No grades found for subject: {subject}\")\n",
    "        return\n",
    "    highest = max(subject_grades.items(), key=lambda x: x[1])\n",
    "    lowest = min(subject_grades.items(), key=lambda x: x[1])\n",
    "    print(f\"Highest in {subject}: {highest[0]} ({highest[1]})\")\n",
    "    print(f\"Lowest in {subject}: {lowest[0]} ({lowest[1]})\")\n",
    "\n",
    "def sort_by_average():\n",
    "    averages = calculate_averages()\n",
    "    sorted_students = sorted(averages.items(), key=lambda x: x[1], reverse=True)\n",
    "    print(\"\\nStudents sorted by average grades:\")\n",
    "    for student, avg in sorted_students:\n",
    "        print(f\"{student}: {avg:.2f}\")\n",
    "    return sorted_students\n",
    "\n",
    "add_student(\"Alice\", {\"Math\": 88, \"English\": 92, \"Science\": 85})\n",
    "add_student(\"Bob\", {\"Math\": 76, \"English\": 81, \"Science\": 79})\n",
    "add_student(\"Charlie\", {\"Math\": 95, \"English\": 89, \"Science\": 92})\n",
    "\n",
    "calculate_averages()\n",
    "subject_grade_extremes(\"Math\")\n",
    "sort_by_average()\n"
   ]
  },
  {
   "cell_type": "code",
   "execution_count": 5,
   "id": "900f5f6b",
   "metadata": {},
   "outputs": [
    {
     "name": "stdout",
     "output_type": "stream",
     "text": [
      "Added 1 x Laptop to cart\n",
      "Added 2 x Mouse to cart\n",
      "Removed 1 x Mouse from cart\n",
      "Subtotal: $825.00\n",
      "After 10% discount: $742.50\n",
      "After 8% tax: $801.90\n"
     ]
    },
    {
     "data": {
      "text/plain": [
       "801.9000000000001"
      ]
     },
     "execution_count": 5,
     "metadata": {},
     "output_type": "execute_result"
    }
   ],
   "source": [
    "products = {\n",
    "    \"Laptop\": {\"price\": 800, \"quantity\": 10},\n",
    "    \"Mouse\": {\"price\": 25, \"quantity\": 50},\n",
    "    \"Keyboard\": {\"price\": 45, \"quantity\": 30},\n",
    "}\n",
    "\n",
    "cart = {}\n",
    "\n",
    "def add_to_cart(product, quantity):\n",
    "    if product in products and products[product][\"quantity\"] >= quantity:\n",
    "        products[product][\"quantity\"] -= quantity\n",
    "        if product in cart:\n",
    "            cart[product] += quantity\n",
    "        else:\n",
    "            cart[product] = quantity\n",
    "        print(f\"Added {quantity} x {product} to cart\")\n",
    "    else:\n",
    "        print(\"Product not available or insufficient quantity\")\n",
    "\n",
    "def remove_from_cart(product, quantity):\n",
    "    if product in cart and cart[product] >= quantity:\n",
    "        cart[product] -= quantity\n",
    "        products[product][\"quantity\"] += quantity\n",
    "        if cart[product] == 0:\n",
    "            del cart[product]\n",
    "        print(f\"Removed {quantity} x {product} from cart\")\n",
    "    else:\n",
    "        print(\"Product not in cart or quantity too high\")\n",
    "\n",
    "def calculate_total(discount=0, tax=0):\n",
    "    subtotal = sum(products[p][\"price\"] * q for p, q in cart.items())\n",
    "    discounted = subtotal * (1 - discount)\n",
    "    taxed = discounted * (1 + tax)\n",
    "    print(f\"Subtotal: ${subtotal:.2f}\")\n",
    "    print(f\"After {discount*100:.0f}% discount: ${discounted:.2f}\")\n",
    "    print(f\"After {tax*100:.0f}% tax: ${taxed:.2f}\")\n",
    "    return taxed\n",
    "\n",
    "add_to_cart(\"Laptop\", 1)\n",
    "add_to_cart(\"Mouse\", 2)\n",
    "remove_from_cart(\"Mouse\", 1)\n",
    "calculate_total(discount=0.1, tax=0.08)\n"
   ]
  }
 ],
 "metadata": {
  "kernelspec": {
   "display_name": "Python 3",
   "language": "python",
   "name": "python3"
  },
  "language_info": {
   "codemirror_mode": {
    "name": "ipython",
    "version": 3
   },
   "file_extension": ".py",
   "mimetype": "text/x-python",
   "name": "python",
   "nbconvert_exporter": "python",
   "pygments_lexer": "ipython3",
   "version": "3.13.2"
  }
 },
 "nbformat": 4,
 "nbformat_minor": 5
}
